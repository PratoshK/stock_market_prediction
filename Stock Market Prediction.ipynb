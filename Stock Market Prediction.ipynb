{
 "cells": [
  {
   "attachments": {},
   "cell_type": "markdown",
   "metadata": {},
   "source": [
    "**Stock Market Prediction**"
   ]
  },
  {
   "attachments": {},
   "cell_type": "markdown",
   "metadata": {},
   "source": [
    "Importing libraries"
   ]
  },
  {
   "cell_type": "code",
   "execution_count": 1,
   "metadata": {},
   "outputs": [],
   "source": [
    "import numpy as np \n",
    "import pandas as pd \n",
    "import matplotlib.pyplot as plt \n",
    "from sklearn.preprocessing import MinMaxScaler\n",
    "from keras.models import Sequential\n",
    "from keras.layers import Dense,LSTM,Dropout"
   ]
  },
  {
   "attachments": {},
   "cell_type": "markdown",
   "metadata": {},
   "source": [
    "Import Dataset"
   ]
  },
  {
   "cell_type": "code",
   "execution_count": 2,
   "metadata": {},
   "outputs": [
    {
     "data": {
      "text/html": [
       "<div>\n",
       "<style scoped>\n",
       "    .dataframe tbody tr th:only-of-type {\n",
       "        vertical-align: middle;\n",
       "    }\n",
       "\n",
       "    .dataframe tbody tr th {\n",
       "        vertical-align: top;\n",
       "    }\n",
       "\n",
       "    .dataframe thead th {\n",
       "        text-align: right;\n",
       "    }\n",
       "</style>\n",
       "<table border=\"1\" class=\"dataframe\">\n",
       "  <thead>\n",
       "    <tr style=\"text-align: right;\">\n",
       "      <th></th>\n",
       "      <th>Date</th>\n",
       "      <th>Open</th>\n",
       "      <th>High</th>\n",
       "      <th>Low</th>\n",
       "      <th>Close</th>\n",
       "      <th>Volume</th>\n",
       "    </tr>\n",
       "  </thead>\n",
       "  <tbody>\n",
       "    <tr>\n",
       "      <th>0</th>\n",
       "      <td>1/3/2012</td>\n",
       "      <td>325.25</td>\n",
       "      <td>332.83</td>\n",
       "      <td>324.97</td>\n",
       "      <td>663.59</td>\n",
       "      <td>7,380,500</td>\n",
       "    </tr>\n",
       "    <tr>\n",
       "      <th>1</th>\n",
       "      <td>1/4/2012</td>\n",
       "      <td>331.27</td>\n",
       "      <td>333.87</td>\n",
       "      <td>329.08</td>\n",
       "      <td>666.45</td>\n",
       "      <td>5,749,400</td>\n",
       "    </tr>\n",
       "    <tr>\n",
       "      <th>2</th>\n",
       "      <td>1/5/2012</td>\n",
       "      <td>329.83</td>\n",
       "      <td>330.75</td>\n",
       "      <td>326.89</td>\n",
       "      <td>657.21</td>\n",
       "      <td>6,590,300</td>\n",
       "    </tr>\n",
       "    <tr>\n",
       "      <th>3</th>\n",
       "      <td>1/6/2012</td>\n",
       "      <td>328.34</td>\n",
       "      <td>328.77</td>\n",
       "      <td>323.68</td>\n",
       "      <td>648.24</td>\n",
       "      <td>5,405,900</td>\n",
       "    </tr>\n",
       "    <tr>\n",
       "      <th>4</th>\n",
       "      <td>1/9/2012</td>\n",
       "      <td>322.04</td>\n",
       "      <td>322.29</td>\n",
       "      <td>309.46</td>\n",
       "      <td>620.76</td>\n",
       "      <td>11,688,800</td>\n",
       "    </tr>\n",
       "  </tbody>\n",
       "</table>\n",
       "</div>"
      ],
      "text/plain": [
       "       Date    Open    High     Low   Close      Volume\n",
       "0  1/3/2012  325.25  332.83  324.97  663.59   7,380,500\n",
       "1  1/4/2012  331.27  333.87  329.08  666.45   5,749,400\n",
       "2  1/5/2012  329.83  330.75  326.89  657.21   6,590,300\n",
       "3  1/6/2012  328.34  328.77  323.68  648.24   5,405,900\n",
       "4  1/9/2012  322.04  322.29  309.46  620.76  11,688,800"
      ]
     },
     "execution_count": 2,
     "metadata": {},
     "output_type": "execute_result"
    }
   ],
   "source": [
    "data = pd.read_csv('Google_train_data.csv')\n",
    "data.head()"
   ]
  },
  {
   "cell_type": "code",
   "execution_count": 16,
   "metadata": {},
   "outputs": [
    {
     "data": {
      "text/html": [
       "<div>\n",
       "<style scoped>\n",
       "    .dataframe tbody tr th:only-of-type {\n",
       "        vertical-align: middle;\n",
       "    }\n",
       "\n",
       "    .dataframe tbody tr th {\n",
       "        vertical-align: top;\n",
       "    }\n",
       "\n",
       "    .dataframe thead th {\n",
       "        text-align: right;\n",
       "    }\n",
       "</style>\n",
       "<table border=\"1\" class=\"dataframe\">\n",
       "  <thead>\n",
       "    <tr style=\"text-align: right;\">\n",
       "      <th></th>\n",
       "      <th>Date</th>\n",
       "      <th>Open</th>\n",
       "      <th>High</th>\n",
       "      <th>Low</th>\n",
       "      <th>Close</th>\n",
       "      <th>Volume</th>\n",
       "    </tr>\n",
       "  </thead>\n",
       "  <tbody>\n",
       "    <tr>\n",
       "      <th>1253</th>\n",
       "      <td>12/23/2016</td>\n",
       "      <td>790.90</td>\n",
       "      <td>792.74</td>\n",
       "      <td>787.28</td>\n",
       "      <td>789.91</td>\n",
       "      <td>623,400</td>\n",
       "    </tr>\n",
       "    <tr>\n",
       "      <th>1254</th>\n",
       "      <td>12/27/2016</td>\n",
       "      <td>790.68</td>\n",
       "      <td>797.86</td>\n",
       "      <td>787.66</td>\n",
       "      <td>791.55</td>\n",
       "      <td>789,100</td>\n",
       "    </tr>\n",
       "    <tr>\n",
       "      <th>1255</th>\n",
       "      <td>12/28/2016</td>\n",
       "      <td>793.70</td>\n",
       "      <td>794.23</td>\n",
       "      <td>783.20</td>\n",
       "      <td>785.05</td>\n",
       "      <td>1,153,800</td>\n",
       "    </tr>\n",
       "    <tr>\n",
       "      <th>1256</th>\n",
       "      <td>12/29/2016</td>\n",
       "      <td>783.33</td>\n",
       "      <td>785.93</td>\n",
       "      <td>778.92</td>\n",
       "      <td>782.79</td>\n",
       "      <td>744,300</td>\n",
       "    </tr>\n",
       "    <tr>\n",
       "      <th>1257</th>\n",
       "      <td>12/30/2016</td>\n",
       "      <td>782.75</td>\n",
       "      <td>782.78</td>\n",
       "      <td>770.41</td>\n",
       "      <td>771.82</td>\n",
       "      <td>1,770,000</td>\n",
       "    </tr>\n",
       "  </tbody>\n",
       "</table>\n",
       "</div>"
      ],
      "text/plain": [
       "            Date    Open    High     Low   Close     Volume\n",
       "1253  12/23/2016  790.90  792.74  787.28  789.91    623,400\n",
       "1254  12/27/2016  790.68  797.86  787.66  791.55    789,100\n",
       "1255  12/28/2016  793.70  794.23  783.20  785.05  1,153,800\n",
       "1256  12/29/2016  783.33  785.93  778.92  782.79    744,300\n",
       "1257  12/30/2016  782.75  782.78  770.41  771.82  1,770,000"
      ]
     },
     "execution_count": 16,
     "metadata": {},
     "output_type": "execute_result"
    }
   ],
   "source": [
    "data.tail()"
   ]
  },
  {
   "cell_type": "code",
   "execution_count": 3,
   "metadata": {},
   "outputs": [
    {
     "name": "stdout",
     "output_type": "stream",
     "text": [
      "<class 'pandas.core.frame.DataFrame'>\n",
      "RangeIndex: 1258 entries, 0 to 1257\n",
      "Data columns (total 6 columns):\n",
      " #   Column  Non-Null Count  Dtype  \n",
      "---  ------  --------------  -----  \n",
      " 0   Date    1258 non-null   object \n",
      " 1   Open    1258 non-null   float64\n",
      " 2   High    1258 non-null   float64\n",
      " 3   Low     1258 non-null   float64\n",
      " 4   Close   1258 non-null   object \n",
      " 5   Volume  1258 non-null   object \n",
      "dtypes: float64(3), object(3)\n",
      "memory usage: 59.1+ KB\n"
     ]
    }
   ],
   "source": [
    "data.info()"
   ]
  },
  {
   "cell_type": "code",
   "execution_count": 17,
   "metadata": {},
   "outputs": [
    {
     "data": {
      "text/html": [
       "<div>\n",
       "<style scoped>\n",
       "    .dataframe tbody tr th:only-of-type {\n",
       "        vertical-align: middle;\n",
       "    }\n",
       "\n",
       "    .dataframe tbody tr th {\n",
       "        vertical-align: top;\n",
       "    }\n",
       "\n",
       "    .dataframe thead th {\n",
       "        text-align: right;\n",
       "    }\n",
       "</style>\n",
       "<table border=\"1\" class=\"dataframe\">\n",
       "  <thead>\n",
       "    <tr style=\"text-align: right;\">\n",
       "      <th></th>\n",
       "      <th>Open</th>\n",
       "      <th>High</th>\n",
       "      <th>Low</th>\n",
       "      <th>Close</th>\n",
       "    </tr>\n",
       "  </thead>\n",
       "  <tbody>\n",
       "    <tr>\n",
       "      <th>count</th>\n",
       "      <td>1149.000000</td>\n",
       "      <td>1149.000000</td>\n",
       "      <td>1149.000000</td>\n",
       "      <td>1149.000000</td>\n",
       "    </tr>\n",
       "    <tr>\n",
       "      <th>mean</th>\n",
       "      <td>531.604517</td>\n",
       "      <td>535.816449</td>\n",
       "      <td>526.879608</td>\n",
       "      <td>674.775527</td>\n",
       "    </tr>\n",
       "    <tr>\n",
       "      <th>std</th>\n",
       "      <td>158.412156</td>\n",
       "      <td>159.593385</td>\n",
       "      <td>157.008123</td>\n",
       "      <td>112.582696</td>\n",
       "    </tr>\n",
       "    <tr>\n",
       "      <th>min</th>\n",
       "      <td>279.120000</td>\n",
       "      <td>281.210000</td>\n",
       "      <td>277.220000</td>\n",
       "      <td>491.200000</td>\n",
       "    </tr>\n",
       "    <tr>\n",
       "      <th>25%</th>\n",
       "      <td>391.560000</td>\n",
       "      <td>394.700000</td>\n",
       "      <td>388.230000</td>\n",
       "      <td>571.580000</td>\n",
       "    </tr>\n",
       "    <tr>\n",
       "      <th>50%</th>\n",
       "      <td>536.350000</td>\n",
       "      <td>539.600000</td>\n",
       "      <td>531.540000</td>\n",
       "      <td>673.690000</td>\n",
       "    </tr>\n",
       "    <tr>\n",
       "      <th>75%</th>\n",
       "      <td>689.980000</td>\n",
       "      <td>698.200000</td>\n",
       "      <td>683.650000</td>\n",
       "      <td>761.680000</td>\n",
       "    </tr>\n",
       "    <tr>\n",
       "      <th>max</th>\n",
       "      <td>816.680000</td>\n",
       "      <td>816.680000</td>\n",
       "      <td>805.140000</td>\n",
       "      <td>922.160000</td>\n",
       "    </tr>\n",
       "  </tbody>\n",
       "</table>\n",
       "</div>"
      ],
      "text/plain": [
       "              Open         High          Low        Close\n",
       "count  1149.000000  1149.000000  1149.000000  1149.000000\n",
       "mean    531.604517   535.816449   526.879608   674.775527\n",
       "std     158.412156   159.593385   157.008123   112.582696\n",
       "min     279.120000   281.210000   277.220000   491.200000\n",
       "25%     391.560000   394.700000   388.230000   571.580000\n",
       "50%     536.350000   539.600000   531.540000   673.690000\n",
       "75%     689.980000   698.200000   683.650000   761.680000\n",
       "max     816.680000   816.680000   805.140000   922.160000"
      ]
     },
     "execution_count": 17,
     "metadata": {},
     "output_type": "execute_result"
    }
   ],
   "source": [
    "data.describe()"
   ]
  },
  {
   "cell_type": "code",
   "execution_count": 4,
   "metadata": {},
   "outputs": [],
   "source": [
    "data[\"Close\"]=pd.to_numeric(data.Close,errors='coerce')\n",
    "data = data.dropna()\n",
    "trainData = data.iloc[:,4:5].values"
   ]
  },
  {
   "cell_type": "code",
   "execution_count": 5,
   "metadata": {},
   "outputs": [
    {
     "name": "stdout",
     "output_type": "stream",
     "text": [
      "<class 'pandas.core.frame.DataFrame'>\n",
      "Index: 1149 entries, 0 to 1257\n",
      "Data columns (total 6 columns):\n",
      " #   Column  Non-Null Count  Dtype  \n",
      "---  ------  --------------  -----  \n",
      " 0   Date    1149 non-null   object \n",
      " 1   Open    1149 non-null   float64\n",
      " 2   High    1149 non-null   float64\n",
      " 3   Low     1149 non-null   float64\n",
      " 4   Close   1149 non-null   float64\n",
      " 5   Volume  1149 non-null   object \n",
      "dtypes: float64(4), object(2)\n",
      "memory usage: 62.8+ KB\n"
     ]
    }
   ],
   "source": [
    "data.info()"
   ]
  },
  {
   "cell_type": "code",
   "execution_count": 6,
   "metadata": {},
   "outputs": [
    {
     "data": {
      "text/plain": [
       "(1149, 1)"
      ]
     },
     "execution_count": 6,
     "metadata": {},
     "output_type": "execute_result"
    }
   ],
   "source": [
    "sc = MinMaxScaler(feature_range=(0,1))\n",
    "trainData = sc.fit_transform(trainData)\n",
    "trainData.shape"
   ]
  },
  {
   "cell_type": "code",
   "execution_count": 7,
   "metadata": {},
   "outputs": [],
   "source": [
    "X_train = []\n",
    "y_train = []\n",
    "\n",
    "for i in range (60,1149): #60 : timestep // 1149 : length of the data\n",
    "    X_train.append(trainData[i-60:i,0]) \n",
    "    y_train.append(trainData[i,0])\n",
    "\n",
    "X_train,y_train = np.array(X_train),np.array(y_train)"
   ]
  },
  {
   "cell_type": "code",
   "execution_count": 8,
   "metadata": {},
   "outputs": [
    {
     "data": {
      "text/plain": [
       "(1089, 60, 1)"
      ]
     },
     "execution_count": 8,
     "metadata": {},
     "output_type": "execute_result"
    }
   ],
   "source": [
    "X_train = np.reshape(X_train,(X_train.shape[0],X_train.shape[1],1)) #adding the batch_size axis\n",
    "X_train.shape"
   ]
  },
  {
   "cell_type": "code",
   "execution_count": 9,
   "metadata": {},
   "outputs": [],
   "source": [
    "model = Sequential()\n",
    "\n",
    "model.add(LSTM(units=100, return_sequences = True, input_shape =(X_train.shape[1],1)))\n",
    "model.add(Dropout(0.2))\n",
    "\n",
    "model.add(LSTM(units=100, return_sequences = True))\n",
    "model.add(Dropout(0.2))\n",
    "\n",
    "model.add(LSTM(units=100, return_sequences = True))\n",
    "model.add(Dropout(0.2))\n",
    "\n",
    "model.add(LSTM(units=100, return_sequences = False))\n",
    "model.add(Dropout(0.2))\n",
    "\n",
    "model.add(Dense(units =1))\n",
    "model.compile(optimizer='adam',loss=\"mean_squared_error\")"
   ]
  },
  {
   "cell_type": "code",
   "execution_count": 10,
   "metadata": {},
   "outputs": [
    {
     "name": "stdout",
     "output_type": "stream",
     "text": [
      "Epoch 1/20\n",
      "35/35 - 9s - loss: 0.0322 - 9s/epoch - 260ms/step\n",
      "Epoch 2/20\n",
      "35/35 - 4s - loss: 0.0153 - 4s/epoch - 102ms/step\n",
      "Epoch 3/20\n",
      "35/35 - 3s - loss: 0.0095 - 3s/epoch - 97ms/step\n",
      "Epoch 4/20\n",
      "35/35 - 4s - loss: 0.0077 - 4s/epoch - 103ms/step\n",
      "Epoch 5/20\n",
      "35/35 - 4s - loss: 0.0128 - 4s/epoch - 102ms/step\n",
      "Epoch 6/20\n",
      "35/35 - 3s - loss: 0.0079 - 3s/epoch - 95ms/step\n",
      "Epoch 7/20\n",
      "35/35 - 3s - loss: 0.0074 - 3s/epoch - 98ms/step\n",
      "Epoch 8/20\n",
      "35/35 - 3s - loss: 0.0073 - 3s/epoch - 95ms/step\n",
      "Epoch 9/20\n",
      "35/35 - 3s - loss: 0.0066 - 3s/epoch - 93ms/step\n",
      "Epoch 10/20\n",
      "35/35 - 4s - loss: 0.0065 - 4s/epoch - 105ms/step\n",
      "Epoch 11/20\n",
      "35/35 - 4s - loss: 0.0059 - 4s/epoch - 112ms/step\n",
      "Epoch 12/20\n",
      "35/35 - 4s - loss: 0.0071 - 4s/epoch - 106ms/step\n",
      "Epoch 13/20\n",
      "35/35 - 4s - loss: 0.0063 - 4s/epoch - 106ms/step\n",
      "Epoch 14/20\n",
      "35/35 - 4s - loss: 0.0061 - 4s/epoch - 110ms/step\n",
      "Epoch 15/20\n",
      "35/35 - 4s - loss: 0.0051 - 4s/epoch - 110ms/step\n",
      "Epoch 16/20\n",
      "35/35 - 4s - loss: 0.0050 - 4s/epoch - 114ms/step\n",
      "Epoch 17/20\n",
      "35/35 - 4s - loss: 0.0051 - 4s/epoch - 112ms/step\n",
      "Epoch 18/20\n",
      "35/35 - 4s - loss: 0.0049 - 4s/epoch - 109ms/step\n",
      "Epoch 19/20\n",
      "35/35 - 4s - loss: 0.0048 - 4s/epoch - 108ms/step\n",
      "Epoch 20/20\n",
      "35/35 - 4s - loss: 0.0046 - 4s/epoch - 109ms/step\n"
     ]
    }
   ],
   "source": [
    "hist = model.fit(X_train, y_train, epochs = 20, batch_size = 32, verbose=2)"
   ]
  },
  {
   "cell_type": "code",
   "execution_count": 11,
   "metadata": {},
   "outputs": [
    {
     "data": {
      "image/png": "[encoded data removed]",
      "text/plain": [
       "<Figure size 640x480 with 1 Axes>"
      ]
     },
     "metadata": {},
     "output_type": "display_data"
    }
   ],
   "source": [
    "plt.plot(hist.history['loss'])\n",
    "plt.title('Training model loss')\n",
    "plt.ylabel('loss')\n",
    "plt.xlabel('epoch')\n",
    "plt.legend(['train'], loc='upper left')\n",
    "plt.show()"
   ]
  },
  {
   "cell_type": "code",
   "execution_count": 12,
   "metadata": {},
   "outputs": [
    {
     "data": {
      "text/plain": [
       "(192, 60, 1)"
      ]
     },
     "execution_count": 12,
     "metadata": {},
     "output_type": "execute_result"
    }
   ],
   "source": [
    "testData = pd.read_csv('Google_test_data.csv')\n",
    "testData[\"Close\"]=pd.to_numeric(testData.Close,errors='coerce')\n",
    "testData = testData.dropna()\n",
    "testData = testData.iloc[:,4:5]\n",
    "y_test = testData.iloc[60:,0:].values \n",
    "#input array for the model\n",
    "inputClosing = testData.iloc[:,0:].values \n",
    "inputClosing_scaled = sc.transform(inputClosing)\n",
    "inputClosing_scaled.shape\n",
    "X_test = []\n",
    "length = len(testData)\n",
    "timestep = 60\n",
    "for i in range(timestep,length):  \n",
    "    X_test.append(inputClosing_scaled[i-timestep:i,0])\n",
    "X_test = np.array(X_test)\n",
    "X_test = np.reshape(X_test,(X_test.shape[0],X_test.shape[1],1))\n",
    "X_test.shape"
   ]
  },
  {
   "cell_type": "code",
   "execution_count": 13,
   "metadata": {},
   "outputs": [
    {
     "name": "stdout",
     "output_type": "stream",
     "text": [
      "6/6 [==============================] - 1s 27ms/step\n"
     ]
    },
    {
     "data": {
      "text/plain": [
       "array([[1.1656519],\n",
       "       [1.1687384],\n",
       "       [1.1791952],\n",
       "       [1.195047 ],\n",
       "       [1.2085739],\n",
       "       [1.2103372],\n",
       "       [1.1997924],\n",
       "       [1.1834941],\n",
       "       [1.171674 ],\n",
       "       [1.1673288],\n",
       "       [1.161022 ],\n",
       "       [1.1511186],\n",
       "       [1.1418688],\n",
       "       [1.1332746],\n",
       "       [1.1308159],\n",
       "       [1.134469 ],\n",
       "       [1.1502236],\n",
       "       [1.1759626],\n",
       "       [1.2061869],\n",
       "       [1.2366024],\n",
       "       [1.2508745],\n",
       "       [1.2497709],\n",
       "       [1.232343 ],\n",
       "       [1.2055053],\n",
       "       [1.1798158],\n",
       "       [1.1636788],\n",
       "       [1.1583917],\n",
       "       [1.1574273],\n",
       "       [1.151808 ],\n",
       "       [1.1427628],\n",
       "       [1.1322412],\n",
       "       [1.1200237],\n",
       "       [1.1019316],\n",
       "       [1.079232 ],\n",
       "       [1.0684001],\n",
       "       [1.0751586],\n",
       "       [1.0943849],\n",
       "       [1.1178138],\n",
       "       [1.1407285],\n",
       "       [1.1536908],\n",
       "       [1.1655252],\n",
       "       [1.1790376],\n",
       "       [1.1945806],\n",
       "       [1.209341 ],\n",
       "       [1.2197106],\n",
       "       [1.2216883],\n",
       "       [1.2134327],\n",
       "       [1.204773 ],\n",
       "       [1.2013276],\n",
       "       [1.2054119],\n",
       "       [1.2165624],\n",
       "       [1.2253456],\n",
       "       [1.228807 ],\n",
       "       [1.2270905],\n",
       "       [1.2256984],\n",
       "       [1.2224851],\n",
       "       [1.2152581],\n",
       "       [1.2109925],\n",
       "       [1.2177191],\n",
       "       [1.2331859],\n",
       "       [1.256356 ],\n",
       "       [1.2847118],\n",
       "       [1.3059621],\n",
       "       [1.3116927],\n",
       "       [1.3025717],\n",
       "       [1.2847106],\n",
       "       [1.2704418],\n",
       "       [1.2641845],\n",
       "       [1.2655363],\n",
       "       [1.2698362],\n",
       "       [1.274958 ],\n",
       "       [1.2785023],\n",
       "       [1.276252 ],\n",
       "       [1.2716573],\n",
       "       [1.2672473],\n",
       "       [1.2655253],\n",
       "       [1.2668822],\n",
       "       [1.2710819],\n",
       "       [1.2811495],\n",
       "       [1.2967759],\n",
       "       [1.3172603],\n",
       "       [1.33749  ],\n",
       "       [1.3500361],\n",
       "       [1.3529842],\n",
       "       [1.3557607],\n",
       "       [1.365211 ],\n",
       "       [1.3800232],\n",
       "       [1.3939182],\n",
       "       [1.4027674],\n",
       "       [1.4056317],\n",
       "       [1.4070024],\n",
       "       [1.4142145],\n",
       "       [1.4283602],\n",
       "       [1.4393802],\n",
       "       [1.4403294],\n",
       "       [1.4302992],\n",
       "       [1.4113452],\n",
       "       [1.3883374],\n",
       "       [1.3679956],\n",
       "       [1.3588071],\n",
       "       [1.362509 ],\n",
       "       [1.3761967],\n",
       "       [1.3960402],\n",
       "       [1.4147112],\n",
       "       [1.4272165],\n",
       "       [1.4311069],\n",
       "       [1.4291594],\n",
       "       [1.4250102],\n",
       "       [1.4238995],\n",
       "       [1.4271972],\n",
       "       [1.434557 ],\n",
       "       [1.4455001],\n",
       "       [1.4571924],\n",
       "       [1.4696984],\n",
       "       [1.4847178],\n",
       "       [1.497872 ],\n",
       "       [1.5080796],\n",
       "       [1.5165267],\n",
       "       [1.526435 ],\n",
       "       [1.5134454],\n",
       "       [1.4743654],\n",
       "       [1.4211913],\n",
       "       [1.374352 ],\n",
       "       [1.3449838],\n",
       "       [1.3311346],\n",
       "       [1.3270743],\n",
       "       [1.3278079],\n",
       "       [1.33116  ],\n",
       "       [1.3287501],\n",
       "       [1.3177383],\n",
       "       [1.3113551],\n",
       "       [1.3173411],\n",
       "       [1.3300736],\n",
       "       [1.3384595],\n",
       "       [1.3414774],\n",
       "       [1.3410326],\n",
       "       [1.3367803],\n",
       "       [1.3286273],\n",
       "       [1.3188328],\n",
       "       [1.3060108],\n",
       "       [1.2923399],\n",
       "       [1.2774502],\n",
       "       [1.248939 ],\n",
       "       [1.2133507],\n",
       "       [1.1775243],\n",
       "       [1.1484363],\n",
       "       [1.134202 ],\n",
       "       [1.1381321],\n",
       "       [1.1555415],\n",
       "       [1.1785324],\n",
       "       [1.2027159],\n",
       "       [1.2233596],\n",
       "       [1.2392912],\n",
       "       [1.2523005],\n",
       "       [1.2622731],\n",
       "       [1.2706304],\n",
       "       [1.2794435],\n",
       "       [1.286741 ],\n",
       "       [1.2849072],\n",
       "       [1.2725654],\n",
       "       [1.2531483],\n",
       "       [1.233228 ],\n",
       "       [1.2209452],\n",
       "       [1.220942 ],\n",
       "       [1.2331791],\n",
       "       [1.2545415],\n",
       "       [1.275502 ],\n",
       "       [1.2921488],\n",
       "       [1.3062334],\n",
       "       [1.318584 ],\n",
       "       [1.328593 ],\n",
       "       [1.3365278],\n",
       "       [1.342696 ],\n",
       "       [1.3452253],\n",
       "       [1.3440366],\n",
       "       [1.3367347],\n",
       "       [1.3268173],\n",
       "       [1.3192426],\n",
       "       [1.3139459],\n",
       "       [1.3093343],\n",
       "       [1.330765 ],\n",
       "       [1.3747878],\n",
       "       [1.423322 ],\n",
       "       [1.4601395],\n",
       "       [1.4775677],\n",
       "       [1.4742569],\n",
       "       [1.4475538],\n",
       "       [1.4112778],\n",
       "       [1.3781075],\n",
       "       [1.3616235],\n",
       "       [1.3589468],\n",
       "       [1.361558 ]], dtype=float32)"
      ]
     },
     "execution_count": 13,
     "metadata": {},
     "output_type": "execute_result"
    }
   ],
   "source": [
    "y_pred = model.predict(X_test)\n",
    "y_pred"
   ]
  },
  {
   "cell_type": "code",
   "execution_count": 14,
   "metadata": {},
   "outputs": [],
   "source": [
    "predicted_price = sc.inverse_transform(y_pred)"
   ]
  },
  {
   "cell_type": "code",
   "execution_count": 15,
   "metadata": {},
   "outputs": [
    {
     "data": {
      "image/png": "[encoded data removed]",
      "text/plain": [
       "<Figure size 640x480 with 1 Axes>"
      ]
     },
     "metadata": {},
     "output_type": "display_data"
    }
   ],
   "source": [
    "plt.plot(y_test, color = 'red', label = 'Actual Stock Price')\n",
    "plt.plot(predicted_price, color = 'green', label = 'Predicted Stock Price')\n",
    "plt.title('Google stock price prediction')\n",
    "plt.xlabel('Time')\n",
    "plt.ylabel('Stock Price')\n",
    "plt.legend()\n",
    "plt.show()"
   ]
  },
  {
   "cell_type": "code",
   "execution_count": null,
   "metadata": {},
   "outputs": [],
   "source": []
  }
 ],
 "metadata": {
  "kernelspec": {
   "display_name": "Python 3",
   "language": "python",
   "name": "python3"
  },
  "language_info": {
   "codemirror_mode": {
    "name": "ipython",
    "version": 3
   },
   "file_extension": ".py",
   "mimetype": "text/x-python",
   "name": "python",
   "nbconvert_exporter": "python",
   "pygments_lexer": "ipython3",
   "version": "3.11.4"
  }
 },
 "nbformat": 4,
 "nbformat_minor": 4
}
